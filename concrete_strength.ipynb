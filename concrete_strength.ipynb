{
 "cells": [
  {
   "cell_type": "markdown",
   "metadata": {},
   "source": [
    "# Kevin Atkin"
   ]
  },
  {
   "cell_type": "markdown",
   "metadata": {},
   "source": [
    "## Thoughts?\n",
    "\n",
    "- he has not done much pre processing, no outlier treatments\n",
    "- statistical tests\n",
    "- no visualisations\n",
    "\n",
    "### I liked the way he used loops to perform model fitting AND created a seperate function for pre-processing."
   ]
  },
  {
   "cell_type": "code",
   "execution_count": 1,
   "metadata": {},
   "outputs": [],
   "source": [
    "import pandas as pd\n",
    "import numpy as np\n",
    "import seaborn as sns\n",
    "\n",
    "from sklearn.model_selection import train_test_split\n",
    "from sklearn.preprocessing import StandardScaler\n",
    "from sklearn.linear_model import LinearRegression,Ridge\n",
    "from sklearn.svm import LinearSVR,SVR\n",
    "from sklearn.tree import DecisionTreeRegressor\n",
    "from sklearn.neural_network import MLPRegressor\n",
    "from sklearn.ensemble import RandomForestRegressor,GradientBoostingRegressor,AdaBoostRegressor\n",
    "\n",
    "from sklearn.model_selection import GridSearchCV"
   ]
  },
  {
   "cell_type": "code",
   "execution_count": 2,
   "metadata": {},
   "outputs": [],
   "source": [
    "data = pd.read_csv('train.csv',index_col='id')"
   ]
  },
  {
   "cell_type": "code",
   "execution_count": 3,
   "metadata": {},
   "outputs": [
    {
     "data": {
      "text/html": [
       "<div>\n",
       "<style scoped>\n",
       "    .dataframe tbody tr th:only-of-type {\n",
       "        vertical-align: middle;\n",
       "    }\n",
       "\n",
       "    .dataframe tbody tr th {\n",
       "        vertical-align: top;\n",
       "    }\n",
       "\n",
       "    .dataframe thead th {\n",
       "        text-align: right;\n",
       "    }\n",
       "</style>\n",
       "<table border=\"1\" class=\"dataframe\">\n",
       "  <thead>\n",
       "    <tr style=\"text-align: right;\">\n",
       "      <th></th>\n",
       "      <th>CementComponent</th>\n",
       "      <th>BlastFurnaceSlag</th>\n",
       "      <th>FlyAshComponent</th>\n",
       "      <th>WaterComponent</th>\n",
       "      <th>SuperplasticizerComponent</th>\n",
       "      <th>CoarseAggregateComponent</th>\n",
       "      <th>FineAggregateComponent</th>\n",
       "      <th>AgeInDays</th>\n",
       "      <th>Strength</th>\n",
       "    </tr>\n",
       "    <tr>\n",
       "      <th>id</th>\n",
       "      <th></th>\n",
       "      <th></th>\n",
       "      <th></th>\n",
       "      <th></th>\n",
       "      <th></th>\n",
       "      <th></th>\n",
       "      <th></th>\n",
       "      <th></th>\n",
       "      <th></th>\n",
       "    </tr>\n",
       "  </thead>\n",
       "  <tbody>\n",
       "    <tr>\n",
       "      <th>0</th>\n",
       "      <td>525.0</td>\n",
       "      <td>0.0</td>\n",
       "      <td>0.0</td>\n",
       "      <td>186.0</td>\n",
       "      <td>0.0</td>\n",
       "      <td>1125.0</td>\n",
       "      <td>613.0</td>\n",
       "      <td>3</td>\n",
       "      <td>10.38</td>\n",
       "    </tr>\n",
       "    <tr>\n",
       "      <th>1</th>\n",
       "      <td>143.0</td>\n",
       "      <td>169.0</td>\n",
       "      <td>143.0</td>\n",
       "      <td>191.0</td>\n",
       "      <td>8.0</td>\n",
       "      <td>967.0</td>\n",
       "      <td>643.0</td>\n",
       "      <td>28</td>\n",
       "      <td>23.52</td>\n",
       "    </tr>\n",
       "    <tr>\n",
       "      <th>2</th>\n",
       "      <td>289.0</td>\n",
       "      <td>134.7</td>\n",
       "      <td>0.0</td>\n",
       "      <td>185.7</td>\n",
       "      <td>0.0</td>\n",
       "      <td>1075.0</td>\n",
       "      <td>795.3</td>\n",
       "      <td>28</td>\n",
       "      <td>36.96</td>\n",
       "    </tr>\n",
       "    <tr>\n",
       "      <th>3</th>\n",
       "      <td>304.0</td>\n",
       "      <td>76.0</td>\n",
       "      <td>0.0</td>\n",
       "      <td>228.0</td>\n",
       "      <td>0.0</td>\n",
       "      <td>932.0</td>\n",
       "      <td>670.0</td>\n",
       "      <td>365</td>\n",
       "      <td>39.05</td>\n",
       "    </tr>\n",
       "    <tr>\n",
       "      <th>4</th>\n",
       "      <td>157.0</td>\n",
       "      <td>236.0</td>\n",
       "      <td>0.0</td>\n",
       "      <td>192.0</td>\n",
       "      <td>0.0</td>\n",
       "      <td>935.4</td>\n",
       "      <td>781.2</td>\n",
       "      <td>90</td>\n",
       "      <td>74.19</td>\n",
       "    </tr>\n",
       "  </tbody>\n",
       "</table>\n",
       "</div>"
      ],
      "text/plain": [
       "    CementComponent  BlastFurnaceSlag  FlyAshComponent  WaterComponent  \\\n",
       "id                                                                       \n",
       "0             525.0               0.0              0.0           186.0   \n",
       "1             143.0             169.0            143.0           191.0   \n",
       "2             289.0             134.7              0.0           185.7   \n",
       "3             304.0              76.0              0.0           228.0   \n",
       "4             157.0             236.0              0.0           192.0   \n",
       "\n",
       "    SuperplasticizerComponent  CoarseAggregateComponent  \\\n",
       "id                                                        \n",
       "0                         0.0                    1125.0   \n",
       "1                         8.0                     967.0   \n",
       "2                         0.0                    1075.0   \n",
       "3                         0.0                     932.0   \n",
       "4                         0.0                     935.4   \n",
       "\n",
       "    FineAggregateComponent  AgeInDays  Strength  \n",
       "id                                               \n",
       "0                    613.0          3     10.38  \n",
       "1                    643.0         28     23.52  \n",
       "2                    795.3         28     36.96  \n",
       "3                    670.0        365     39.05  \n",
       "4                    781.2         90     74.19  "
      ]
     },
     "execution_count": 3,
     "metadata": {},
     "output_type": "execute_result"
    }
   ],
   "source": [
    "data.head()"
   ]
  },
  {
   "cell_type": "code",
   "execution_count": 4,
   "metadata": {},
   "outputs": [
    {
     "name": "stdout",
     "output_type": "stream",
     "text": [
      "<class 'pandas.core.frame.DataFrame'>\n",
      "Int64Index: 5407 entries, 0 to 5406\n",
      "Data columns (total 9 columns):\n",
      " #   Column                     Non-Null Count  Dtype  \n",
      "---  ------                     --------------  -----  \n",
      " 0   CementComponent            5407 non-null   float64\n",
      " 1   BlastFurnaceSlag           5407 non-null   float64\n",
      " 2   FlyAshComponent            5407 non-null   float64\n",
      " 3   WaterComponent             5407 non-null   float64\n",
      " 4   SuperplasticizerComponent  5407 non-null   float64\n",
      " 5   CoarseAggregateComponent   5407 non-null   float64\n",
      " 6   FineAggregateComponent     5407 non-null   float64\n",
      " 7   AgeInDays                  5407 non-null   int64  \n",
      " 8   Strength                   5407 non-null   float64\n",
      "dtypes: float64(8), int64(1)\n",
      "memory usage: 422.4 KB\n"
     ]
    }
   ],
   "source": [
    "data.info()"
   ]
  },
  {
   "cell_type": "markdown",
   "metadata": {},
   "source": [
    "## Pre-Processing"
   ]
  },
  {
   "cell_type": "code",
   "execution_count": 5,
   "metadata": {},
   "outputs": [],
   "source": [
    "def preprocess_inputs(df):\n",
    "    df = data.copy()\n",
    "    \n",
    "    y = df['Strength'].copy()\n",
    "    X = df.drop('Strength',axis=1).copy()\n",
    "    \n",
    "    #train test split\n",
    "    X_train,X_test,y_train,y_test = train_test_split(X,y,random_state=1,train_size=0.7)\n",
    "    \n",
    "    scaler = StandardScaler()\n",
    "    scaler.fit(X_train)\n",
    "    \n",
    "    X_train= pd.DataFrame(scaler.transform(X_train),columns=X_train.columns)\n",
    "    X_test= pd.DataFrame(scaler.transform(X_test),columns=X_test.columns)\n",
    "    \n",
    "    return X_train,X_test,y_train,y_test"
   ]
  },
  {
   "cell_type": "code",
   "execution_count": 6,
   "metadata": {},
   "outputs": [],
   "source": [
    "X_train,X_test,y_train,y_test = preprocess_inputs(data)"
   ]
  },
  {
   "cell_type": "code",
   "execution_count": 7,
   "metadata": {},
   "outputs": [
    {
     "name": "stdout",
     "output_type": "stream",
     "text": [
      "                     Linear Regression trained.\n",
      "                 L2 (Ridge) Regression trained.\n",
      "Support Vector Machine (Linear Kernel) trained.\n",
      "   Support Vector Mahcine (RBF Kernel) trained.\n",
      "                         Decision Tree trained.\n"
     ]
    },
    {
     "name": "stderr",
     "output_type": "stream",
     "text": [
      "C:\\ProgramData\\Anaconda3\\lib\\site-packages\\sklearn\\neural_network\\_multilayer_perceptron.py:582: ConvergenceWarning: Stochastic Optimizer: Maximum iterations (200) reached and the optimization hasn't converged yet.\n",
      "  warnings.warn(\n"
     ]
    },
    {
     "name": "stdout",
     "output_type": "stream",
     "text": [
      "                        Neural Network trained.\n",
      "                         Random Forest trained.\n",
      "                     Gradient Boosting trained.\n",
      "                              AdaBoost trained.\n"
     ]
    }
   ],
   "source": [
    "models = {\n",
    "    \"                     Linear Regression\": LinearRegression(),\n",
    "    \"                 L2 (Ridge) Regression\": Ridge(),\n",
    "    \"Support Vector Machine (Linear Kernel)\": LinearSVR(),\n",
    "    \"   Support Vector Mahcine (RBF Kernel)\": SVR(),\n",
    "    \"                         Decision Tree\": DecisionTreeRegressor(),\n",
    "    \"                        Neural Network\": MLPRegressor(),\n",
    "    \"                         Random Forest\": RandomForestRegressor(),\n",
    "    \"                     Gradient Boosting\": GradientBoostingRegressor(),\n",
    "    \"                              AdaBoost\": AdaBoostRegressor()\n",
    "}\n",
    "\n",
    "for name,model in models.items():\n",
    "    model.fit(X_train,y_train)\n",
    "    print(name+ \" trained.\")"
   ]
  },
  {
   "cell_type": "code",
   "execution_count": 8,
   "metadata": {},
   "outputs": [
    {
     "name": "stdout",
     "output_type": "stream",
     "text": [
      "                     Linear Regression R^2:0.17517\n",
      "                 L2 (Ridge) Regression R^2:0.17519\n",
      "Support Vector Machine (Linear Kernel) R^2:0.16078\n",
      "   Support Vector Mahcine (RBF Kernel) R^2:0.29192\n",
      "                         Decision Tree R^2:0.08463\n",
      "                        Neural Network R^2:0.41131\n",
      "                         Random Forest R^2:0.35367\n",
      "                     Gradient Boosting R^2:0.43592\n",
      "                              AdaBoost R^2:0.36636\n"
     ]
    }
   ],
   "source": [
    "for name,model in models.items():\n",
    "    print(name+\" R^2:{:.5f}\".format(model.score(X_test,y_test)))"
   ]
  },
  {
   "cell_type": "markdown",
   "metadata": {},
   "source": [
    "## Optimization"
   ]
  },
  {
   "cell_type": "code",
   "execution_count": 9,
   "metadata": {},
   "outputs": [
    {
     "data": {
      "text/plain": [
       "{'learning_rate': 0.1, 'max_depth': 3, 'n_estimators': 100}"
      ]
     },
     "execution_count": 9,
     "metadata": {},
     "output_type": "execute_result"
    }
   ],
   "source": [
    "best_model = GradientBoostingRegressor()\n",
    "best_model.fit(X_train,y_train)\n",
    "\n",
    "\n",
    "params = {\n",
    "    'learning_rate': [0.01, 0.1, 1.0],\n",
    "    'n_estimators': [100, 150, 200],\n",
    "    'max_depth': [3, 4, 5]\n",
    "}\n",
    "\n",
    "clf = GridSearchCV(best_model, params)\n",
    "clf.fit(X_train, y_train)\n",
    "\n",
    "clf.best_params_"
   ]
  },
  {
   "cell_type": "code",
   "execution_count": 10,
   "metadata": {},
   "outputs": [
    {
     "name": "stdout",
     "output_type": "stream",
     "text": [
      "Model R^2 (After Optimization): 0.43589\n"
     ]
    }
   ],
   "source": [
    "print(\"Model R^2 (After Optimization): {:.5f}\".format(clf.score(X_test, y_test)))"
   ]
  },
  {
   "cell_type": "markdown",
   "metadata": {},
   "source": [
    "# sayeed noor"
   ]
  },
  {
   "cell_type": "markdown",
   "metadata": {},
   "source": [
    "### Renaming columns:\n",
    "df.columns=[put a list of new names here] \n",
    "\n",
    "- so easy -o-"
   ]
  },
  {
   "cell_type": "markdown",
   "metadata": {},
   "source": [
    "### Ask 6 questions : \n",
    "- info\n",
    "- nulls\n",
    "- duplicates -> drop 'em if they are there\n",
    "- describe or visualise the spread\n",
    "- correlation"
   ]
  },
  {
   "cell_type": "code",
   "execution_count": 11,
   "metadata": {},
   "outputs": [
    {
     "name": "stdout",
     "output_type": "stream",
     "text": [
      "<class 'pandas.core.frame.DataFrame'>\n",
      "Int64Index: 5407 entries, 0 to 5406\n",
      "Data columns (total 9 columns):\n",
      " #   Column                     Non-Null Count  Dtype  \n",
      "---  ------                     --------------  -----  \n",
      " 0   CementComponent            5407 non-null   float64\n",
      " 1   BlastFurnaceSlag           5407 non-null   float64\n",
      " 2   FlyAshComponent            5407 non-null   float64\n",
      " 3   WaterComponent             5407 non-null   float64\n",
      " 4   SuperplasticizerComponent  5407 non-null   float64\n",
      " 5   CoarseAggregateComponent   5407 non-null   float64\n",
      " 6   FineAggregateComponent     5407 non-null   float64\n",
      " 7   AgeInDays                  5407 non-null   int64  \n",
      " 8   Strength                   5407 non-null   float64\n",
      "dtypes: float64(8), int64(1)\n",
      "memory usage: 422.4 KB\n"
     ]
    }
   ],
   "source": [
    "data.info()"
   ]
  },
  {
   "cell_type": "code",
   "execution_count": 12,
   "metadata": {},
   "outputs": [
    {
     "data": {
      "text/plain": [
       "CementComponent              0\n",
       "BlastFurnaceSlag             0\n",
       "FlyAshComponent              0\n",
       "WaterComponent               0\n",
       "SuperplasticizerComponent    0\n",
       "CoarseAggregateComponent     0\n",
       "FineAggregateComponent       0\n",
       "AgeInDays                    0\n",
       "Strength                     0\n",
       "dtype: int64"
      ]
     },
     "execution_count": 12,
     "metadata": {},
     "output_type": "execute_result"
    }
   ],
   "source": [
    "data.isnull().sum()"
   ]
  },
  {
   "cell_type": "code",
   "execution_count": 13,
   "metadata": {},
   "outputs": [
    {
     "data": {
      "text/plain": [
       "0"
      ]
     },
     "execution_count": 13,
     "metadata": {},
     "output_type": "execute_result"
    }
   ],
   "source": [
    "data.duplicated().sum()"
   ]
  },
  {
   "cell_type": "code",
   "execution_count": 14,
   "metadata": {},
   "outputs": [
    {
     "data": {
      "text/html": [
       "<div>\n",
       "<style scoped>\n",
       "    .dataframe tbody tr th:only-of-type {\n",
       "        vertical-align: middle;\n",
       "    }\n",
       "\n",
       "    .dataframe tbody tr th {\n",
       "        vertical-align: top;\n",
       "    }\n",
       "\n",
       "    .dataframe thead th {\n",
       "        text-align: right;\n",
       "    }\n",
       "</style>\n",
       "<table border=\"1\" class=\"dataframe\">\n",
       "  <thead>\n",
       "    <tr style=\"text-align: right;\">\n",
       "      <th></th>\n",
       "      <th>CementComponent</th>\n",
       "      <th>BlastFurnaceSlag</th>\n",
       "      <th>FlyAshComponent</th>\n",
       "      <th>WaterComponent</th>\n",
       "      <th>SuperplasticizerComponent</th>\n",
       "      <th>CoarseAggregateComponent</th>\n",
       "      <th>FineAggregateComponent</th>\n",
       "      <th>AgeInDays</th>\n",
       "      <th>Strength</th>\n",
       "    </tr>\n",
       "  </thead>\n",
       "  <tbody>\n",
       "    <tr>\n",
       "      <th>count</th>\n",
       "      <td>5407.000000</td>\n",
       "      <td>5407.000000</td>\n",
       "      <td>5407.000000</td>\n",
       "      <td>5407.000000</td>\n",
       "      <td>5407.000000</td>\n",
       "      <td>5407.000000</td>\n",
       "      <td>5407.000000</td>\n",
       "      <td>5407.000000</td>\n",
       "      <td>5407.000000</td>\n",
       "    </tr>\n",
       "    <tr>\n",
       "      <th>mean</th>\n",
       "      <td>299.168189</td>\n",
       "      <td>58.610579</td>\n",
       "      <td>31.872795</td>\n",
       "      <td>185.076235</td>\n",
       "      <td>4.108441</td>\n",
       "      <td>992.000718</td>\n",
       "      <td>771.219974</td>\n",
       "      <td>51.751618</td>\n",
       "      <td>35.452071</td>\n",
       "    </tr>\n",
       "    <tr>\n",
       "      <th>std</th>\n",
       "      <td>105.537682</td>\n",
       "      <td>83.417801</td>\n",
       "      <td>54.605003</td>\n",
       "      <td>18.517583</td>\n",
       "      <td>5.692296</td>\n",
       "      <td>77.148010</td>\n",
       "      <td>78.725253</td>\n",
       "      <td>70.006975</td>\n",
       "      <td>16.401896</td>\n",
       "    </tr>\n",
       "    <tr>\n",
       "      <th>min</th>\n",
       "      <td>102.000000</td>\n",
       "      <td>0.000000</td>\n",
       "      <td>0.000000</td>\n",
       "      <td>121.800000</td>\n",
       "      <td>0.000000</td>\n",
       "      <td>801.000000</td>\n",
       "      <td>594.000000</td>\n",
       "      <td>1.000000</td>\n",
       "      <td>2.330000</td>\n",
       "    </tr>\n",
       "    <tr>\n",
       "      <th>25%</th>\n",
       "      <td>213.700000</td>\n",
       "      <td>0.000000</td>\n",
       "      <td>0.000000</td>\n",
       "      <td>175.100000</td>\n",
       "      <td>0.000000</td>\n",
       "      <td>938.200000</td>\n",
       "      <td>734.300000</td>\n",
       "      <td>7.000000</td>\n",
       "      <td>23.640000</td>\n",
       "    </tr>\n",
       "    <tr>\n",
       "      <th>50%</th>\n",
       "      <td>297.200000</td>\n",
       "      <td>0.000000</td>\n",
       "      <td>0.000000</td>\n",
       "      <td>187.400000</td>\n",
       "      <td>0.000000</td>\n",
       "      <td>978.000000</td>\n",
       "      <td>781.200000</td>\n",
       "      <td>28.000000</td>\n",
       "      <td>33.950000</td>\n",
       "    </tr>\n",
       "    <tr>\n",
       "      <th>75%</th>\n",
       "      <td>375.000000</td>\n",
       "      <td>122.600000</td>\n",
       "      <td>79.000000</td>\n",
       "      <td>192.000000</td>\n",
       "      <td>8.050000</td>\n",
       "      <td>1047.000000</td>\n",
       "      <td>821.000000</td>\n",
       "      <td>56.000000</td>\n",
       "      <td>45.850000</td>\n",
       "    </tr>\n",
       "    <tr>\n",
       "      <th>max</th>\n",
       "      <td>540.000000</td>\n",
       "      <td>359.400000</td>\n",
       "      <td>200.100000</td>\n",
       "      <td>247.000000</td>\n",
       "      <td>32.200000</td>\n",
       "      <td>1145.000000</td>\n",
       "      <td>992.600000</td>\n",
       "      <td>365.000000</td>\n",
       "      <td>82.600000</td>\n",
       "    </tr>\n",
       "  </tbody>\n",
       "</table>\n",
       "</div>"
      ],
      "text/plain": [
       "       CementComponent  BlastFurnaceSlag  FlyAshComponent  WaterComponent  \\\n",
       "count      5407.000000       5407.000000      5407.000000     5407.000000   \n",
       "mean        299.168189         58.610579        31.872795      185.076235   \n",
       "std         105.537682         83.417801        54.605003       18.517583   \n",
       "min         102.000000          0.000000         0.000000      121.800000   \n",
       "25%         213.700000          0.000000         0.000000      175.100000   \n",
       "50%         297.200000          0.000000         0.000000      187.400000   \n",
       "75%         375.000000        122.600000        79.000000      192.000000   \n",
       "max         540.000000        359.400000       200.100000      247.000000   \n",
       "\n",
       "       SuperplasticizerComponent  CoarseAggregateComponent  \\\n",
       "count                5407.000000               5407.000000   \n",
       "mean                    4.108441                992.000718   \n",
       "std                     5.692296                 77.148010   \n",
       "min                     0.000000                801.000000   \n",
       "25%                     0.000000                938.200000   \n",
       "50%                     0.000000                978.000000   \n",
       "75%                     8.050000               1047.000000   \n",
       "max                    32.200000               1145.000000   \n",
       "\n",
       "       FineAggregateComponent    AgeInDays     Strength  \n",
       "count             5407.000000  5407.000000  5407.000000  \n",
       "mean               771.219974    51.751618    35.452071  \n",
       "std                 78.725253    70.006975    16.401896  \n",
       "min                594.000000     1.000000     2.330000  \n",
       "25%                734.300000     7.000000    23.640000  \n",
       "50%                781.200000    28.000000    33.950000  \n",
       "75%                821.000000    56.000000    45.850000  \n",
       "max                992.600000   365.000000    82.600000  "
      ]
     },
     "execution_count": 14,
     "metadata": {},
     "output_type": "execute_result"
    }
   ],
   "source": [
    "data.describe()"
   ]
  },
  {
   "cell_type": "code",
   "execution_count": 15,
   "metadata": {},
   "outputs": [
    {
     "data": {
      "text/plain": [
       "<AxesSubplot:>"
      ]
     },
     "execution_count": 15,
     "metadata": {},
     "output_type": "execute_result"
    },
    {
     "data": {
      "image/png": "[encoded data removed]",
      "text/plain": [
       "<Figure size 432x288 with 2 Axes>"
      ]
     },
     "metadata": {
      "needs_background": "light"
     },
     "output_type": "display_data"
    }
   ],
   "source": [
    "sns.heatmap(data.corr(),annot=True,cbar=True,cmap='coolwarm')"
   ]
  },
  {
   "cell_type": "code",
   "execution_count": null,
   "metadata": {},
   "outputs": [],
   "source": []
  },
  {
   "cell_type": "code",
   "execution_count": null,
   "metadata": {},
   "outputs": [],
   "source": []
  },
  {
   "cell_type": "code",
   "execution_count": null,
   "metadata": {},
   "outputs": [],
   "source": []
  },
  {
   "cell_type": "code",
   "execution_count": null,
   "metadata": {},
   "outputs": [],
   "source": []
  },
  {
   "cell_type": "code",
   "execution_count": null,
   "metadata": {},
   "outputs": [],
   "source": []
  },
  {
   "cell_type": "code",
   "execution_count": null,
   "metadata": {},
   "outputs": [],
   "source": []
  },
  {
   "cell_type": "code",
   "execution_count": null,
   "metadata": {},
   "outputs": [],
   "source": []
  },
  {
   "cell_type": "code",
   "execution_count": null,
   "metadata": {},
   "outputs": [],
   "source": []
  },
  {
   "cell_type": "code",
   "execution_count": null,
   "metadata": {},
   "outputs": [],
   "source": []
  },
  {
   "cell_type": "code",
   "execution_count": null,
   "metadata": {},
   "outputs": [],
   "source": []
  },
  {
   "cell_type": "code",
   "execution_count": null,
   "metadata": {},
   "outputs": [],
   "source": []
  },
  {
   "cell_type": "code",
   "execution_count": null,
   "metadata": {},
   "outputs": [],
   "source": []
  },
  {
   "cell_type": "code",
   "execution_count": null,
   "metadata": {},
   "outputs": [],
   "source": []
  },
  {
   "cell_type": "code",
   "execution_count": null,
   "metadata": {},
   "outputs": [],
   "source": []
  },
  {
   "cell_type": "code",
   "execution_count": null,
   "metadata": {},
   "outputs": [],
   "source": []
  }
 ],
 "metadata": {
  "kernelspec": {
   "display_name": "Python 3",
   "language": "python",
   "name": "python3"
  },
  "language_info": {
   "codemirror_mode": {
    "name": "ipython",
    "version": 3
   },
   "file_extension": ".py",
   "mimetype": "text/x-python",
   "name": "python",
   "nbconvert_exporter": "python",
   "pygments_lexer": "ipython3",
   "version": "3.8.5"
  }
 },
 "nbformat": 4,
 "nbformat_minor": 4
}
